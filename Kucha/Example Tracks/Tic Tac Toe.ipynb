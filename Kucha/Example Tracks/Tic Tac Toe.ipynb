{
 "cells": [
  {
   "cell_type": "markdown",
   "metadata": {},
   "source": [
    "## Tic - Tac - Toe\n",
    "\n",
    "Time for some fake graphics! Let’s say we want to draw game boards that look like this:\n"
   ]
  },
  {
   "cell_type": "raw",
   "metadata": {},
   "source": [
    " _ _ _\n",
    "|_|_|_|\n",
    "|_|_|_|\n",
    "|_|_|_|\n",
    "\n",
    "\n",
    "Currently player: 1\n",
    "Which row? (start with 1) 1\n",
    "Which column? (start with 1) 1\n",
    " _ _ _ \n",
    "|X|_|_|\n",
    "|_|_|_|\n",
    "|_|_|_|\n",
    "\n",
    "Currently player: 2\n",
    "Which row? (start with 1) 3\n",
    "Which column? (start with 1) 3\n",
    " _ _ _ \n",
    "|X|_|_|\n",
    "|_|_|_|\n",
    "|_|_|O|\n",
    "Currently player: 1\n",
    "Which row? (start with 1) 1\n",
    "Which column? (start with 1) 3\n",
    " _ _ _ \n",
    "|X|_|X|\n",
    "|_|_|_|\n",
    "|_|_|O|\n",
    "Currently player: 2\n",
    "Which row? (start with 1) 1\n",
    "Which column? (start with 1) 2\n",
    " _ _ _ \n",
    "|X|O|X|\n",
    "|_|_|_|\n",
    "|_|_|O|\n",
    "Currently player: 1\n",
    "Which row? (start with 1) 3\n",
    "Which column? (start with 1) 1\n",
    " _ _ _ \n",
    "|X|O|X|\n",
    "|_|_|_|\n",
    "|X|_|O|\n",
    "Currently player: 2\n",
    "Which row? (start with 1) 3\n",
    "Which column? (start with 1) 2\n",
    " _ _ _ \n",
    "|X|O|X|\n",
    "|_|_|_|\n",
    "|X|O|O|\n",
    "Currently player: 1\n",
    "Which row? (start with 1) 2\n",
    "Which column? (start with 1) 1\n",
    " _ _ _ \n",
    "|X|O|X|\n",
    "|X|_|_|\n",
    "|X|O|O|\n",
    "Player 1 wins!"
   ]
  },
  {
   "cell_type": "markdown",
   "metadata": {},
   "source": [
    "Our goal here is to build this game.\n",
    "So let's start this in pieces.\n",
    "\n",
    "What are the different possible pieces you can break this game into? "
   ]
  },
  {
   "cell_type": "code",
   "execution_count": 36,
   "metadata": {},
   "outputs": [],
   "source": [
    "def start_game():\n",
    "    game = [[0,0,0],[0,0,0],[0,0,0]]\n",
    "    return game"
   ]
  },
  {
   "cell_type": "code",
   "execution_count": 37,
   "metadata": {},
   "outputs": [
    {
     "name": "stdout",
     "output_type": "stream",
     "text": [
      "[[0, 0, 0], [0, 0, 0], [0, 0, 0]]\n"
     ]
    }
   ],
   "source": [
    "print(start_game())"
   ]
  },
  {
   "cell_type": "code",
   "execution_count": 38,
   "metadata": {},
   "outputs": [],
   "source": [
    "def display_board(game):\n",
    "    d = {0:'_',\n",
    "         1:'X',\n",
    "         2: 'o'}\n",
    "    print(' _ _ _')\n",
    "    for row in game:\n",
    "        new_row = [d[i] for i in row]\n",
    "        print(\"|\" + \"|\".join(new_row) + \"|\")"
   ]
  },
  {
   "cell_type": "code",
   "execution_count": 39,
   "metadata": {},
   "outputs": [],
   "source": [
    "def check_winner(game):\n",
    "    \n",
    "    # check rows\n",
    "    \n",
    "    for i in range(3):\n",
    "        if game[i][0] == game[i][1] == game[i][2] != 0 :\n",
    "            return game[i][0]\n",
    "    \n",
    "    # check columns\n",
    "    for i in range(3):\n",
    "        if game[0][i] == game[1][i] == game[2][i] != 0 :\n",
    "            return game[0][i]\n",
    "    \n",
    "    if game[0][0] == game[1][1] == game[2][2] != 0:\n",
    "        return game[1][1]\n",
    "    \n",
    "    if game[2][0] == game[1][1] == game[0][2] != 0:\n",
    "        return game[1][1]\n",
    "    \n",
    "    return 0"
   ]
  },
  {
   "cell_type": "code",
   "execution_count": 40,
   "metadata": {},
   "outputs": [],
   "source": [
    "def switch_player(player):\n",
    "    return 3-player"
   ]
  },
  {
   "cell_type": "code",
   "execution_count": 41,
   "metadata": {},
   "outputs": [],
   "source": [
    "def isempty(game):\n",
    "    for row in game:\n",
    "        if 0 in row:\n",
    "            return True\n",
    "        \n",
    "    return False"
   ]
  },
  {
   "cell_type": "code",
   "execution_count": 42,
   "metadata": {},
   "outputs": [
    {
     "data": {
      "text/plain": [
       "True"
      ]
     },
     "execution_count": 42,
     "metadata": {},
     "output_type": "execute_result"
    }
   ],
   "source": [
    "isempty([[1,1,1],[1,2,0],[2,1,2]])"
   ]
  },
  {
   "cell_type": "code",
   "execution_count": 47,
   "metadata": {},
   "outputs": [],
   "source": [
    "def main():\n",
    "    \n",
    "    game = start_game()\n",
    "    player = 1\n",
    "    winner = 0\n",
    "    #print(game)\n",
    "    while isempty(game):\n",
    "        print(\"Player {}'s turn\".format(player))\n",
    "        display_board(game)\n",
    "        x = int(input(\"Input row number (start with 1)\")) -1\n",
    "        y = int(input(\"Input column number (start with 1)\")) -1\n",
    "        print(x,y)\n",
    "        print(game)\n",
    "        game[x][y] = player\n",
    "        print(game)\n",
    "        display_board(game)\n",
    "\n",
    "        winner =  check_winner(game)\n",
    "        if winner:\n",
    "            break\n",
    "        else:\n",
    "            player = switch_player(player)\n",
    "    \n",
    "    \n",
    "    if winner:\n",
    "        print(\"Game over! Player {} wins\".format(winner))\n",
    "    else:\n",
    "        print(\"Game over! No one wins!\")"
   ]
  },
  {
   "cell_type": "code",
   "execution_count": 48,
   "metadata": {},
   "outputs": [
    {
     "name": "stdout",
     "output_type": "stream",
     "text": [
      "Player 1's turn\n",
      " _ _ _\n",
      "|_|_|_|\n",
      "|_|_|_|\n",
      "|_|_|_|\n",
      "Input row number (start with 1)2\n",
      "Input column number (start with 1)2\n",
      "1 1\n",
      "[[0, 0, 0], [0, 0, 0], [0, 0, 0]]\n",
      "[[0, 0, 0], [0, 1, 0], [0, 0, 0]]\n",
      " _ _ _\n",
      "|_|_|_|\n",
      "|_|X|_|\n",
      "|_|_|_|\n",
      "Player 2's turn\n",
      " _ _ _\n",
      "|_|_|_|\n",
      "|_|X|_|\n",
      "|_|_|_|\n",
      "Input row number (start with 1)1\n",
      "Input column number (start with 1)1\n",
      "0 0\n",
      "[[0, 0, 0], [0, 1, 0], [0, 0, 0]]\n",
      "[[2, 0, 0], [0, 1, 0], [0, 0, 0]]\n",
      " _ _ _\n",
      "|o|_|_|\n",
      "|_|X|_|\n",
      "|_|_|_|\n",
      "Player 1's turn\n",
      " _ _ _\n",
      "|o|_|_|\n",
      "|_|X|_|\n",
      "|_|_|_|\n",
      "Input row number (start with 1)3\n",
      "Input column number (start with 1)3\n",
      "2 2\n",
      "[[2, 0, 0], [0, 1, 0], [0, 0, 0]]\n",
      "[[2, 0, 0], [0, 1, 0], [0, 0, 1]]\n",
      " _ _ _\n",
      "|o|_|_|\n",
      "|_|X|_|\n",
      "|_|_|X|\n",
      "Player 2's turn\n",
      " _ _ _\n",
      "|o|_|_|\n",
      "|_|X|_|\n",
      "|_|_|X|\n",
      "Input row number (start with 1)3\n",
      "Input column number (start with 1)1\n",
      "2 0\n",
      "[[2, 0, 0], [0, 1, 0], [0, 0, 1]]\n",
      "[[2, 0, 0], [0, 1, 0], [2, 0, 1]]\n",
      " _ _ _\n",
      "|o|_|_|\n",
      "|_|X|_|\n",
      "|o|_|X|\n",
      "Player 1's turn\n",
      " _ _ _\n",
      "|o|_|_|\n",
      "|_|X|_|\n",
      "|o|_|X|\n",
      "Input row number (start with 1)2\n",
      "Input column number (start with 1)3\n",
      "1 2\n",
      "[[2, 0, 0], [0, 1, 0], [2, 0, 1]]\n",
      "[[2, 0, 0], [0, 1, 1], [2, 0, 1]]\n",
      " _ _ _\n",
      "|o|_|_|\n",
      "|_|X|X|\n",
      "|o|_|X|\n",
      "Player 2's turn\n",
      " _ _ _\n",
      "|o|_|_|\n",
      "|_|X|X|\n",
      "|o|_|X|\n",
      "Input row number (start with 1)2\n",
      "Input column number (start with 1)1\n",
      "1 0\n",
      "[[2, 0, 0], [0, 1, 1], [2, 0, 1]]\n",
      "[[2, 0, 0], [2, 1, 1], [2, 0, 1]]\n",
      " _ _ _\n",
      "|o|_|_|\n",
      "|o|X|X|\n",
      "|o|_|X|\n",
      "Game over! Player 2 wins\n"
     ]
    }
   ],
   "source": [
    "main()"
   ]
  }
 ],
 "metadata": {
  "kernelspec": {
   "display_name": "Python 3",
   "language": "python",
   "name": "python3"
  },
  "language_info": {
   "codemirror_mode": {
    "name": "ipython",
    "version": 3
   },
   "file_extension": ".py",
   "mimetype": "text/x-python",
   "name": "python",
   "nbconvert_exporter": "python",
   "pygments_lexer": "ipython3",
   "version": "3.6.3"
  }
 },
 "nbformat": 4,
 "nbformat_minor": 2
}
