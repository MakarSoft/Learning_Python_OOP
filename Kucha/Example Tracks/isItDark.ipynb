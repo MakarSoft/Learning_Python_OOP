{
 "cells": [
  {
   "cell_type": "markdown",
   "metadata": {},
   "source": [
    "# Is it dark outside ?\n",
    "\n",
    "### There is an app to do this, on the app store. Yes Seriously!\n",
    "Let's see how to emulate the underlying logic through using whatever Python we have learnt so far!\n",
    "\n",
    "https://www.isitdarkoutside.com/"
   ]
  },
  {
   "cell_type": "raw",
   "metadata": {},
   "source": [
    "\n",
    "$ python3 isItDark.py\n",
    "\n",
    "Is it dark outside?\n",
    "==================\n",
    "No\n"
   ]
  }
 ],
 "metadata": {
  "kernelspec": {
   "display_name": "Python 3",
   "language": "python",
   "name": "python3"
  },
  "language_info": {
   "codemirror_mode": {
    "name": "ipython",
    "version": 3
   },
   "file_extension": ".py",
   "mimetype": "text/x-python",
   "name": "python",
   "nbconvert_exporter": "python",
   "pygments_lexer": "ipython3",
   "version": "3.5.2"
  }
 },
 "nbformat": 4,
 "nbformat_minor": 2
}
