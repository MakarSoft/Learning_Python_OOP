{
 "cells": [
  {
   "cell_type": "markdown",
   "metadata": {},
   "source": [
    "# Object Oriented Programming in Python"
   ]
  },
  {
   "cell_type": "markdown",
   "metadata": {},
   "source": [
    "### Some basic idea about OOP\n",
    "\n",
    "Q1. What is **OOP**? Why do we need to use it?\n",
    "\n",
    "* OOP is a programming paradigm, much like other programming paradigms such as **Functional Programming/Asynchronous Programming**.\n",
    "\n",
    "Q2. What are the features of OOP?\n",
    "* OOP programming paradigm assumes that the programmer decides the different parts of code, **modelled as a living entity**. Much like a human who has **attributes(features) and behaviours**, OOP assumes that the two **protocol/rule** should exist for a programming language to follow OOP paradigm.\n",
    "* We define a **class**, which is like a **blueprint** of the program. We certainly have a **behaviour part** and **attribute part** of any program, so it makes sense to seperate the two parts.\n",
    "* We have **objects**, which is an **instance of a class**, more so like a **'example'** of a class. Like we have a blueprint of a car, and we have real-life example of physical car, which is analogous to class and object respectively.\n",
    "* Each object can have it's **own attributes** and **own behaviours**, or all such objects can have **common attributes** and **common methods**.\n"
   ]
  },
  {
   "cell_type": "markdown",
   "metadata": {},
   "source": [
    "#### The concept of OOP in Python focuses on creating reusable code. This concept is also known as DRY (Don't Repeat Yourself)."
   ]
  },
  {
   "cell_type": "markdown",
   "metadata": {},
   "source": [
    "## Content for the current Notebook\n",
    "**1. Basic examples of a class and object**<br>\n",
    "**2. Features of OOP**<br>\n",
    "**3. The init constructor**<br>\n",
    "**4. Instance, Instance attributes and methods**<br>\n",
    "**5. Class methods and attributes**<br>\n",
    "**6. OOP1 - Abstraction**<br>\n",
    "**7. OOP2 - Encapsulation**<br>\n",
    "**8. OOP3 - Inheritance**<br>\n",
    "**9. OOP4 - Polymorphism**<br>\n",
    "**10. OOP5 - Python's MRO**<br>\n",
    "**11. Class methods and static methods**<br>\n",
    "**12. Magic Methods in Python**<br>\n",
    "**13. Decorators: Simplifying our job**"
   ]
  },
  {
   "cell_type": "markdown",
   "metadata": {},
   "source": [
    "## Basic examples of a class and object"
   ]
  },
  {
   "cell_type": "code",
   "execution_count": 59,
   "metadata": {},
   "outputs": [],
   "source": [
    "class Account:\n",
    "    \"\"\"\n",
    "    Base class for implementing a bank account\n",
    "    \"\"\"\n",
    "    \n",
    "    def __init__(self, acc_num=None, balance=None):\n",
    "        self.acc_num = acc_num\n",
    "        self.balance = balance\n",
    "\n",
    "# Example of an object of account\n",
    "alice_acc = Account(\"SBI-101\",10000)"
   ]
  },
  {
   "cell_type": "code",
   "execution_count": 60,
   "metadata": {},
   "outputs": [
    {
     "data": {
      "text/plain": [
       "'SBI-101'"
      ]
     },
     "execution_count": 60,
     "metadata": {},
     "output_type": "execute_result"
    }
   ],
   "source": [
    "# access all the instance attributes using dot operator\n",
    "alice_acc.acc_num"
   ]
  },
  {
   "cell_type": "code",
   "execution_count": 61,
   "metadata": {},
   "outputs": [
    {
     "data": {
      "text/plain": [
       "10000"
      ]
     },
     "execution_count": 61,
     "metadata": {},
     "output_type": "execute_result"
    }
   ],
   "source": [
    "alice_acc.balance"
   ]
  },
  {
   "cell_type": "code",
   "execution_count": 62,
   "metadata": {},
   "outputs": [],
   "source": [
    "# Similar example of another account, fiddle with the instance attributes :P\n",
    "bob_acc = Account(\"SBI-102\",2000)"
   ]
  },
  {
   "cell_type": "markdown",
   "metadata": {},
   "source": [
    "## Features of OOP\n",
    "\n",
    "In Python, the concept of OOP follows some basic principles:\n",
    "\n",
    "* Abstraction - Process of simplifying the details of a behaviour without being too explicit about it.\n",
    "* Inheritance\t- A process of using details from a new class without modifying existing class.\n",
    "* Encapsulation - Hiding the private details of a class from other objects.\n",
    "* Polymorphism - A concept of using common operation in different ways for different data input."
   ]
  },
  {
   "cell_type": "markdown",
   "metadata": {},
   "source": [
    "## Constructors in Python\n",
    "\n",
    "* Class functions that begins with double underscore **(\\__)** are called special functions as they have special meaning.\n",
    "* Of one particular interest is the **\\__init\\__()** function. This special function gets called whenever a new object of that class is instantiated.\n",
    "* This type of function is also called constructors in Object Oriented Programming (OOP). We normally use it to initialize all the variables."
   ]
  },
  {
   "cell_type": "code",
   "execution_count": 63,
   "metadata": {},
   "outputs": [],
   "source": [
    "# We use constructors to initialise all the initial values of an object, can be None\n",
    "none_acc = Account()"
   ]
  },
  {
   "cell_type": "code",
   "execution_count": 64,
   "metadata": {},
   "outputs": [],
   "source": [
    "none_acc.acc_num"
   ]
  },
  {
   "cell_type": "code",
   "execution_count": 65,
   "metadata": {},
   "outputs": [],
   "source": [
    "# For the above example, we need to ensure that account no. is valid and amount is not -ve\n",
    "class Account:\n",
    "    \"\"\"\n",
    "    Base class for implementing a bank account\n",
    "    \"\"\"\n",
    "    \n",
    "    def __init__(self, acc_num, balance):\n",
    "        # Make sure acc no. starts with SBI\n",
    "        if(acc_num[:3] == 'SBI'):\n",
    "            self.acc_num = acc_num\n",
    "        else:\n",
    "            raise ValueError('The account number should have a correct prefix!')\n",
    "        # Make sure the balance is not -ve\n",
    "         \n",
    "        if (balance > 0):\n",
    "            self.balance = balance\n",
    "        else:\n",
    "            raise ValueError('Balance cannot be negative!')"
   ]
  },
  {
   "cell_type": "code",
   "execution_count": 66,
   "metadata": {},
   "outputs": [
    {
     "ename": "ValueError",
     "evalue": "Balance cannot be negative!",
     "output_type": "error",
     "traceback": [
      "\u001b[0;31m---------------------------------------------------------------------------\u001b[0m",
      "\u001b[0;31mValueError\u001b[0m                                Traceback (most recent call last)",
      "\u001b[0;32m<ipython-input-66-f8183797ea4f>\u001b[0m in \u001b[0;36m<module>\u001b[0;34m\u001b[0m\n\u001b[0;32m----> 1\u001b[0;31m \u001b[0mdumm_acc\u001b[0m \u001b[0;34m=\u001b[0m \u001b[0mAccount\u001b[0m\u001b[0;34m(\u001b[0m\u001b[0;34m'SBI'\u001b[0m\u001b[0;34m,\u001b[0m\u001b[0;34m-\u001b[0m\u001b[0;36m1234\u001b[0m\u001b[0;34m)\u001b[0m\u001b[0;34m\u001b[0m\u001b[0m\n\u001b[0m",
      "\u001b[0;32m<ipython-input-65-09334e1e974f>\u001b[0m in \u001b[0;36m__init__\u001b[0;34m(self, acc_num, balance)\u001b[0m\n\u001b[1;32m     16\u001b[0m             \u001b[0mself\u001b[0m\u001b[0;34m.\u001b[0m\u001b[0mbalance\u001b[0m \u001b[0;34m=\u001b[0m \u001b[0mbalance\u001b[0m\u001b[0;34m\u001b[0m\u001b[0m\n\u001b[1;32m     17\u001b[0m         \u001b[0;32melse\u001b[0m\u001b[0;34m:\u001b[0m\u001b[0;34m\u001b[0m\u001b[0m\n\u001b[0;32m---> 18\u001b[0;31m             \u001b[0;32mraise\u001b[0m \u001b[0mValueError\u001b[0m\u001b[0;34m(\u001b[0m\u001b[0;34m'Balance cannot be negative!'\u001b[0m\u001b[0;34m)\u001b[0m\u001b[0;34m\u001b[0m\u001b[0m\n\u001b[0m",
      "\u001b[0;31mValueError\u001b[0m: Balance cannot be negative!"
     ]
    }
   ],
   "source": [
    "dumm_acc = Account('SBI',-1234)"
   ]
  },
  {
   "cell_type": "markdown",
   "metadata": {},
   "source": [
    "### Instance, Instance attributes and methods\n",
    "\n",
    "* Instance are the real world prototype of the class. \n",
    "* As we created a blueprint/plan of how an account should behave or have attributes, an object implements it. \n",
    "* Think of the analogy of theoretical explanation and a practical prototype of it."
   ]
  },
  {
   "cell_type": "code",
   "execution_count": 67,
   "metadata": {},
   "outputs": [],
   "source": [
    "# Lets add some more features to it, such as interest rate and print a good print message\n",
    "class Account:\n",
    "    \"\"\"\n",
    "    Base class for implementing a bank account\n",
    "    \"\"\"\n",
    "    \n",
    "    def __init__(self, acc_num, balance, interest=0.04):\n",
    "        # Make sure acc no. starts with SBI\n",
    "        if(acc_num[:3] == 'SBI'):\n",
    "            self.acc_num = acc_num\n",
    "        else:\n",
    "            raise ValueError('The account number should have a correct prefix!')\n",
    "        # Make sure the balance is not -ve\n",
    "        if (balance > 0):\n",
    "            self.balance = balance\n",
    "        else:\n",
    "            raise ValueError('Balance cannot be negative!')\n",
    "        self.interest = interest\n",
    "        \n",
    "    # Print a good message!\n",
    "    def get_info(self):\n",
    "        print(f'Account Number : {self.acc_num} has a balance: {self.balance} with interest rate: {self.interest*100}%')"
   ]
  },
  {
   "cell_type": "code",
   "execution_count": 68,
   "metadata": {},
   "outputs": [
    {
     "name": "stdout",
     "output_type": "stream",
     "text": [
      "Account Number : SBI-1234 has a balance: 12000 with interest rate: 4.0%\n"
     ]
    }
   ],
   "source": [
    "# Test it!\n",
    "dumm_acc = Account('SBI-1234',12000)\n",
    "dumm_acc.get_info()"
   ]
  },
  {
   "cell_type": "markdown",
   "metadata": {},
   "source": [
    "* The above was a good example of a object with it's unique behavior and unique properties. For example, in the above description, we have interest which is a inherent attribute of the account with a given account number. Similarly the balance is the inherent property associated with account number.\n",
    "\n",
    "* The instance method is a method which performs some behaviour which requires the instance attributes. For example in order to print the message we needed the acc num, balance and interest, which is unique to each object, so only instance methods can access them using **self**. Python provides a place-holder to store the current object, to access the attributes associated with it.\n"
   ]
  },
  {
   "cell_type": "markdown",
   "metadata": {},
   "source": [
    "### Class attributes and methods\n",
    "\n",
    "* Class attributes are such which requires all the instance method to share them. \n",
    "* For example, if the name of the bank is SBI, then all the different accounts must have the same bank name, which is accessed by the class attributes. \n",
    "* Similarly, if we want to perform some behaviour requiring access to class attributes, we use class methods. Following example will demonstrate it"
   ]
  },
  {
   "cell_type": "code",
   "execution_count": 69,
   "metadata": {},
   "outputs": [],
   "source": [
    "class Account:\n",
    "    \"\"\"\n",
    "    Base class for implementing a bank account\n",
    "    \"\"\"\n",
    "    \n",
    "    #Name of the bank\n",
    "    bank_name = 'SBI'\n",
    "    \n",
    "    def __init__(self, acc_num, balance, interest=0.04):\n",
    "        # Make sure acc no. starts with SBI\n",
    "        if(acc_num[:3] == 'SBI'):\n",
    "            self.acc_num = acc_num\n",
    "        else:\n",
    "            raise ValueError('The account number should have a correct prefix!')\n",
    "        # Make sure the balance is not -ve\n",
    "        if (balance > 0):\n",
    "            self.balance = balance\n",
    "        else:\n",
    "            raise ValueError('Balance cannot be negative!')\n",
    "        self.interest = interest\n",
    "        \n",
    "    # Print a good message!\n",
    "    def get_info(self):\n",
    "        print(f'Account Number : {self.acc_num} has a balance: {self.balance} with interest rate: {self.interest*100}%')\n",
    "    \n",
    "    # Print the bank name\n",
    "    @classmethod\n",
    "    def print_bank(cls):\n",
    "        print(f'The name of bank: {cls.bank_name}')"
   ]
  },
  {
   "cell_type": "code",
   "execution_count": 70,
   "metadata": {},
   "outputs": [
    {
     "name": "stdout",
     "output_type": "stream",
     "text": [
      "The name of bank: SBI\n"
     ]
    }
   ],
   "source": [
    "# Test it!\n",
    "dumm_acc = Account('SBI-1234',12000)\n",
    "dumm_acc.print_bank()"
   ]
  },
  {
   "cell_type": "markdown",
   "metadata": {},
   "source": [
    "### Practice Time!\n",
    "\n",
    "* Here is an example class which we are building from scratch. \n",
    "* Don't worry we would provide a skeleton class with logic to be filled out.\n",
    "* Note that this class will be used later for developing the different aspects of OOP, so ask for help if you are stuck!"
   ]
  },
  {
   "cell_type": "code",
   "execution_count": 71,
   "metadata": {},
   "outputs": [],
   "source": [
    "class Polygon:\n",
    "    \"\"\"\n",
    "    Base class for all sorts of object with n-unequal sides\n",
    "    \"\"\"\n",
    "    # Store the name of the Polygon using class variables. Default is 'POLYGON'\n",
    "    \n",
    "    def __init__(self):\n",
    "        # Store the num of sides, and a list of length of all sides\n",
    "        pass\n",
    "        \n",
    "    def get_side(self):\n",
    "        # Print the total number of side of the given polygon\n",
    "        pass\n",
    "    \n",
    "    def get_name(cls):\n",
    "        # Print the name of the Polygon. Hint : Use class method\n",
    "        pass\n",
    "    "
   ]
  },
  {
   "cell_type": "markdown",
   "metadata": {},
   "source": [
    "### OOP1 : Abstraction\n",
    "\n",
    "* Well abstraction means that the logic of the code is stored in a behaviour rather than explicitly mentioning it. * For example, while driving a car, we just have a steering wheel which is connected to rotors of the car. \n",
    "* While driving it, we just need to know how to operate the steering wheel, rather than knowing how the steering wheel moves. It is just hidden for the sanity of the user. \n",
    "* We can always make things transparent, but sometimes, abstracting away irrelevant parts can help us in focussing on the big picture!"
   ]
  },
  {
   "cell_type": "code",
   "execution_count": 72,
   "metadata": {},
   "outputs": [],
   "source": [
    "# Example of adding an instance method of adding/withdrawing the money, i.e. update the balance\n",
    "# Can be done by manually updating, but we would use abstraction to implement an instance method\n",
    "class Account:\n",
    "    \"\"\"\n",
    "    Base class for implementing a bank account\n",
    "    \"\"\"\n",
    "    \n",
    "    #Name of the bank\n",
    "    bank_name = 'SBI'\n",
    "    \n",
    "    def __init__(self, acc_num, balance, interest=0.04):\n",
    "        # Make sure acc no. starts with SBI\n",
    "        if(acc_num[:3] == 'SBI'):\n",
    "            self.acc_num = acc_num\n",
    "        else:\n",
    "            raise ValueError('The account number should have a correct prefix!')\n",
    "        # Make sure the balance is not -ve\n",
    "        if (balance > 0):\n",
    "            self.balance = balance\n",
    "        else:\n",
    "            raise ValueError('Balance cannot be negative!')\n",
    "        self.interest = interest\n",
    "        \n",
    "    \n",
    "    def get_info(self):\n",
    "        \"\"\"\n",
    "        Prints the info of the account\n",
    "        \"\"\"\n",
    "        print(f'Account Number : {self.acc_num} has a balance: {self.balance} with interest rate: {self.interest*100}%')\n",
    "    \n",
    "    \n",
    "    @classmethod\n",
    "    def print_bank(cls):\n",
    "        \"\"\"\n",
    "        Prints the name of the bank\n",
    "        \"\"\"\n",
    "        print(f'The name of bank: {cls.bank_name}')\n",
    "        \n",
    "    def addBalance(self, amount):\n",
    "        \"\"\"\n",
    "        Adds a sum of money to the balance\n",
    "        \"\"\"\n",
    "        \n",
    "        # Make sure that the balance is +ve\n",
    "        if(amount <0):\n",
    "            raise ValueError('Enter a positive amount!')\n",
    "        self.balance += amount\n",
    "    \n",
    "    def removeBalance(self, amount):\n",
    "        \"\"\"\n",
    "        Remove the balance after widthdrawal\n",
    "        \"\"\"\n",
    "        \n",
    "        # Make sure that the balance is +ve\n",
    "        if(amount <0):\n",
    "            raise ValueError('Enter a positive amount!')\n",
    "        \n",
    "        # Throw insufficient funds if widthdrawn amount > balance\n",
    "        if(amount > self.balance):\n",
    "            raise ValueError('Insufficient Funds!')\n",
    "        self.balance -= amount"
   ]
  },
  {
   "cell_type": "code",
   "execution_count": 73,
   "metadata": {},
   "outputs": [],
   "source": [
    "dumm_acc = Account('SBI-1222',12000)"
   ]
  },
  {
   "cell_type": "code",
   "execution_count": 74,
   "metadata": {},
   "outputs": [
    {
     "data": {
      "text/plain": [
       "13000"
      ]
     },
     "execution_count": 74,
     "metadata": {},
     "output_type": "execute_result"
    }
   ],
   "source": [
    "dumm_acc.addBalance(1000)\n",
    "dumm_acc.balance"
   ]
  },
  {
   "cell_type": "code",
   "execution_count": 75,
   "metadata": {},
   "outputs": [
    {
     "data": {
      "text/plain": [
       "1000"
      ]
     },
     "execution_count": 75,
     "metadata": {},
     "output_type": "execute_result"
    }
   ],
   "source": [
    "dumm_acc.removeBalance(12000)\n",
    "dumm_acc.balance"
   ]
  },
  {
   "cell_type": "code",
   "execution_count": 76,
   "metadata": {},
   "outputs": [
    {
     "ename": "ValueError",
     "evalue": "Insufficient Funds!",
     "output_type": "error",
     "traceback": [
      "\u001b[0;31m---------------------------------------------------------------------------\u001b[0m",
      "\u001b[0;31mValueError\u001b[0m                                Traceback (most recent call last)",
      "\u001b[0;32m<ipython-input-76-f61293eadf08>\u001b[0m in \u001b[0;36m<module>\u001b[0;34m\u001b[0m\n\u001b[0;32m----> 1\u001b[0;31m \u001b[0mdumm_acc\u001b[0m\u001b[0;34m.\u001b[0m\u001b[0mremoveBalance\u001b[0m\u001b[0;34m(\u001b[0m\u001b[0;36m2000\u001b[0m\u001b[0;34m)\u001b[0m\u001b[0;34m\u001b[0m\u001b[0m\n\u001b[0m",
      "\u001b[0;32m<ipython-input-72-a50911b01aca>\u001b[0m in \u001b[0;36mremoveBalance\u001b[0;34m(self, amount)\u001b[0m\n\u001b[1;32m     58\u001b[0m         \u001b[0;31m# Throw insufficient funds if widthdrawn amount > balance\u001b[0m\u001b[0;34m\u001b[0m\u001b[0;34m\u001b[0m\u001b[0m\n\u001b[1;32m     59\u001b[0m         \u001b[0;32mif\u001b[0m\u001b[0;34m(\u001b[0m\u001b[0mamount\u001b[0m \u001b[0;34m>\u001b[0m \u001b[0mself\u001b[0m\u001b[0;34m.\u001b[0m\u001b[0mbalance\u001b[0m\u001b[0;34m)\u001b[0m\u001b[0;34m:\u001b[0m\u001b[0;34m\u001b[0m\u001b[0m\n\u001b[0;32m---> 60\u001b[0;31m             \u001b[0;32mraise\u001b[0m \u001b[0mValueError\u001b[0m\u001b[0;34m(\u001b[0m\u001b[0;34m'Insufficient Funds!'\u001b[0m\u001b[0;34m)\u001b[0m\u001b[0;34m\u001b[0m\u001b[0m\n\u001b[0m\u001b[1;32m     61\u001b[0m         \u001b[0mself\u001b[0m\u001b[0;34m.\u001b[0m\u001b[0mbalance\u001b[0m \u001b[0;34m-=\u001b[0m \u001b[0mamount\u001b[0m\u001b[0;34m\u001b[0m\u001b[0m\n",
      "\u001b[0;31mValueError\u001b[0m: Insufficient Funds!"
     ]
    }
   ],
   "source": [
    "dumm_acc.removeBalance(2000)"
   ]
  },
  {
   "cell_type": "markdown",
   "metadata": {},
   "source": [
    "### Practice time! \n",
    "Add a abstraction to calculate the perimeter"
   ]
  },
  {
   "cell_type": "code",
   "execution_count": 77,
   "metadata": {},
   "outputs": [],
   "source": [
    "# For example, in the polygon class, we could have calculated the perimeter by getting the list of all sides length and getting the sum\n",
    "# But using abstraction, we can create a instance method to do the same rather than cooking up the logic on our own!\n",
    "class Polygon:\n",
    "    \"\"\"\n",
    "    Base class for all sorts of object with n-unequal sides\n",
    "    \"\"\"\n",
    "    # Store the name of the Polygon using class variables. Default is 'POLYGON'\n",
    "    name = 'POLYGON'\n",
    "    def __init__(self, num, side_len):\n",
    "        # Store the num of sides, and a list of length of all sides\n",
    "        self.num = num\n",
    "        self.sides = side_len\n",
    "        \n",
    "    def get_side(self):\n",
    "        # Print the total number of side of the given polygon\n",
    "        return self.num\n",
    "    \n",
    "    @classmethod\n",
    "    def get_name(cls):\n",
    "        # Print the name of the Polygon. Hint : Use class method\n",
    "        return cls.name\n",
    "        \n",
    "    def perimeter(self):\n",
    "        # Print the perimeter of the polygon\n",
    "        pass\n",
    "    "
   ]
  },
  {
   "cell_type": "code",
   "execution_count": 78,
   "metadata": {},
   "outputs": [],
   "source": [
    "dumm_poly = Polygon(5,[1,2,3,4,5])\n",
    "# Should return 15 :P\n",
    "dumm_poly.perimeter()"
   ]
  },
  {
   "cell_type": "markdown",
   "metadata": {},
   "source": [
    "### OOP2 : Encapsulation\n",
    "\n",
    "* Encapsulation means hiding of instance and class attributes, and accessing them through a method.\n",
    "* Using OOP in Python, we can restrict access to methods and variables. This prevent data from direct modification which is called encapsulation.\n",
    "* In Python, we denote private attribute using underscore as prefix i.e **single “ _ “ or double “ __“**.\n",
    "* Usually Python is lenient is scoping the data variables, and most of the developers use a common understanding that \" _<name_of_var> \"is usually a private variable so it should not be edited manually, rather an instance method should be used.\n",
    "* However variables and methods starting with **\" __name_of_var_method \"** are protected, which means that one cannot access them. "
   ]
  },
  {
   "cell_type": "code",
   "execution_count": 79,
   "metadata": {},
   "outputs": [],
   "source": [
    "# Let us edit the instance variables and class variables to support encapsulation \n",
    "# Convert all the instance variable to protected and add a method to get the balance and acc num\n",
    "class Account:\n",
    "    \"\"\"\n",
    "    Base class for implementing a bank account\n",
    "    \"\"\"\n",
    "    \n",
    "    #Name of the bank\n",
    "    __bank_name = 'SBI'\n",
    "    \n",
    "    def __init__(self, acc_num, balance, interest=0.04):\n",
    "        # Make sure acc no. starts with SBI\n",
    "        if(acc_num[:3] == 'SBI'):\n",
    "            self.__acc_num = acc_num\n",
    "        else:\n",
    "            raise ValueError('The account number should have a correct prefix!')\n",
    "        # Make sure the balance is not -ve\n",
    "        if (balance > 0):\n",
    "            self.__balance = balance\n",
    "        else:\n",
    "            raise ValueError('Balance cannot be negative!')\n",
    "        self.__interest = interest\n",
    "        \n",
    "    \n",
    "    def get_info(self):\n",
    "        \"\"\"\n",
    "        Prints the info of the account\n",
    "        \"\"\"\n",
    "        print(f'Account Number : {self.__acc_num} has a balance: {self.__balance} with interest rate: {self.__interest*100}%')\n",
    "    \n",
    "    \n",
    "    @classmethod\n",
    "    def print_bank(cls):\n",
    "        \"\"\"\n",
    "        Prints the name of the bank\n",
    "        \"\"\"\n",
    "        print(f'The name of bank: {cls.__bank_name}')\n",
    "        \n",
    "    def addBalance(self, amount):\n",
    "        \"\"\"\n",
    "        Adds a sum of money to the balance\n",
    "        \"\"\"\n",
    "        \n",
    "        # Make sure that the balance is +ve\n",
    "        if(amount <0):\n",
    "            raise ValueError('Enter a positive amount!')\n",
    "        self.__balance += amount\n",
    "    \n",
    "    def removeBalance(self, amount):\n",
    "        \"\"\"\n",
    "        Remove the balance after widthdrawal\n",
    "        \"\"\"\n",
    "        \n",
    "        # Make sure that the balance is +ve\n",
    "        if(amount <0):\n",
    "            raise ValueError('Enter a positive amount!')\n",
    "        \n",
    "        # Throw insufficient funds if widthdrawn amount > balance\n",
    "        if(amount > self.__balance):\n",
    "            raise ValueError('Insufficient Funds!')\n",
    "        self.__balance -= amount\n",
    "    \n",
    "    def getBalance(self):\n",
    "        \"\"\"\n",
    "        Get balance\n",
    "        \"\"\"\n",
    "        return self.__balance\n",
    "    \n",
    "    def getAcc(self):\n",
    "        \"\"\"\n",
    "        Return the account number\n",
    "        \"\"\"\n",
    "        return self.__acc_num\n",
    "    \n",
    "    def getInterest(self):\n",
    "        \"\"\"\n",
    "        Return the interest\n",
    "        \"\"\"\n",
    "        return self.__interest"
   ]
  },
  {
   "cell_type": "code",
   "execution_count": 80,
   "metadata": {},
   "outputs": [],
   "source": [
    "dumm_acc = Account('SBI-1222',12000)"
   ]
  },
  {
   "cell_type": "code",
   "execution_count": 81,
   "metadata": {},
   "outputs": [
    {
     "data": {
      "text/plain": [
       "12000"
      ]
     },
     "execution_count": 81,
     "metadata": {},
     "output_type": "execute_result"
    }
   ],
   "source": [
    "dumm_acc.getBalance()"
   ]
  },
  {
   "cell_type": "markdown",
   "metadata": {},
   "source": [
    "### Practice Time!\n",
    "\n",
    "* Refactor the Polygon class to use encapsulation.\n",
    "* Convert all instance and class variables to be protected variables\n",
    "* Convert only side_len to private\n",
    "* Add a method to return the num of sides and polygon name"
   ]
  },
  {
   "cell_type": "code",
   "execution_count": 82,
   "metadata": {},
   "outputs": [],
   "source": [
    "class Polygon:\n",
    "    \"\"\"\n",
    "    Base class for all sorts of object with n-unequal sides\n",
    "    \"\"\"\n",
    "    # Store the name of the Polygon using class variables. Default is 'POLYGON'\n",
    "    name = 'POLYGON'\n",
    "    def __init__(self, num, side_len):\n",
    "        # Store the num of sides, and a list of length of all sides\n",
    "        self.num = num\n",
    "        self.sides = side_len\n",
    "        \n",
    "    def get_side(self):\n",
    "        # Print the total number of side of the given polygon\n",
    "        return self.num\n",
    "    \n",
    "    @classmethod\n",
    "    def get_name(cls):\n",
    "        # Print the name of the Polygon. Hint : Use class method\n",
    "        return cls.name\n",
    "        \n",
    "    def perimeter(self):\n",
    "        # Print the perimeter of the polygon\n",
    "        return sum(self.sides)"
   ]
  },
  {
   "cell_type": "markdown",
   "metadata": {},
   "source": [
    "### OOP3 : Inheritance\n",
    "\n",
    "* Inheritance means inheriting a previous base class with some modified properties to create a new class. \n",
    "* Inheritance is a way of creating new class for using details of existing class without modifying it. The newly formed class is a derived class (or child class). Similarly, the existing class is a base class (or parent class).\n",
    "* For example, if we want to create a seperate Savings account, then we can either copy the same logic with interest rate modified, or sub-class Account\n",
    "* Similarly, for creating a Square, we can re-use Polygon with some modified functions and attributes\n"
   ]
  },
  {
   "cell_type": "code",
   "execution_count": 83,
   "metadata": {},
   "outputs": [],
   "source": [
    "# Lets create a savings bank account using inheritance\n",
    "class SavingsAccount(Account):\n",
    "    \"\"\"\n",
    "    A Savings account\n",
    "    \"\"\"\n",
    "    \n",
    "    def __init__(self, acc_num, balance, interest=0.07):\n",
    "        # Before initializing all the variables of a Savings account, initialise the base class first\n",
    "        super().__init__(acc_num, balance, interest)\n",
    "            "
   ]
  },
  {
   "cell_type": "code",
   "execution_count": 84,
   "metadata": {},
   "outputs": [
    {
     "data": {
      "text/plain": [
       "0.07"
      ]
     },
     "execution_count": 84,
     "metadata": {},
     "output_type": "execute_result"
    }
   ],
   "source": [
    "dumm_acc = SavingsAccount('SBI-0000',12000)\n",
    "dumm_acc.getInterest()"
   ]
  },
  {
   "cell_type": "markdown",
   "metadata": {},
   "source": [
    "### Practice Time!\n",
    "* Create a Square class that subclasses Polygon with one change! Guess that:P"
   ]
  },
  {
   "cell_type": "code",
   "execution_count": 85,
   "metadata": {},
   "outputs": [],
   "source": [
    "class Square(Polygon):\n",
    "    \"\"\"\n",
    "    Class for Square which is a special polygon\n",
    "    \"\"\"\n",
    "    def __init__(self, ):\n",
    "        pass\n",
    "    "
   ]
  },
  {
   "cell_type": "markdown",
   "metadata": {},
   "source": [
    "### OOP4 : Polymorphism\n",
    "* Polymorphism means overriding a specific behaviour keeping the public interface same\n",
    "* Polymorphism is an ability (in OOP) to use common interface for multiple form (data types).\n",
    "* For example, if we want to calculate the area of a square and rhombus, we can access the area using .area() function, and that can be overridden for each subclass. It provides a same interface with different underlying logic"
   ]
  },
  {
   "cell_type": "code",
   "execution_count": 86,
   "metadata": {},
   "outputs": [],
   "source": [
    "class Rectangle(Polygon):\n",
    "    \"\"\"\n",
    "    Class for rectangle\n",
    "    \"\"\"\n",
    "    \n",
    "    def __init__(self, num, side_len):\n",
    "        \n",
    "        super().__init__(num, side_len)\n",
    "        self.__num = 4\n",
    "        \n",
    "    def area(self):\n",
    "        return self._side_len[0] * self._side_len[1]"
   ]
  },
  {
   "cell_type": "code",
   "execution_count": 87,
   "metadata": {},
   "outputs": [
    {
     "ename": "AttributeError",
     "evalue": "'Rectangle' object has no attribute '_side_len'",
     "output_type": "error",
     "traceback": [
      "\u001b[0;31m---------------------------------------------------------------------------\u001b[0m",
      "\u001b[0;31mAttributeError\u001b[0m                            Traceback (most recent call last)",
      "\u001b[0;32m<ipython-input-87-dcec667cef8a>\u001b[0m in \u001b[0;36m<module>\u001b[0;34m\u001b[0m\n\u001b[1;32m      1\u001b[0m \u001b[0mdumm_poly\u001b[0m \u001b[0;34m=\u001b[0m \u001b[0mRectangle\u001b[0m\u001b[0;34m(\u001b[0m\u001b[0;36m4\u001b[0m\u001b[0;34m,\u001b[0m \u001b[0;34m[\u001b[0m\u001b[0;36m1\u001b[0m\u001b[0;34m,\u001b[0m\u001b[0;36m2\u001b[0m\u001b[0;34m,\u001b[0m\u001b[0;36m1\u001b[0m\u001b[0;34m,\u001b[0m\u001b[0;36m2\u001b[0m\u001b[0;34m]\u001b[0m\u001b[0;34m)\u001b[0m\u001b[0;34m\u001b[0m\u001b[0m\n\u001b[0;32m----> 2\u001b[0;31m \u001b[0mdumm_poly\u001b[0m\u001b[0;34m.\u001b[0m\u001b[0marea\u001b[0m\u001b[0;34m(\u001b[0m\u001b[0;34m)\u001b[0m\u001b[0;34m\u001b[0m\u001b[0m\n\u001b[0m",
      "\u001b[0;32m<ipython-input-86-57b37d0116e7>\u001b[0m in \u001b[0;36marea\u001b[0;34m(self)\u001b[0m\n\u001b[1;32m     10\u001b[0m \u001b[0;34m\u001b[0m\u001b[0m\n\u001b[1;32m     11\u001b[0m     \u001b[0;32mdef\u001b[0m \u001b[0marea\u001b[0m\u001b[0;34m(\u001b[0m\u001b[0mself\u001b[0m\u001b[0;34m)\u001b[0m\u001b[0;34m:\u001b[0m\u001b[0;34m\u001b[0m\u001b[0m\n\u001b[0;32m---> 12\u001b[0;31m         \u001b[0;32mreturn\u001b[0m \u001b[0mself\u001b[0m\u001b[0;34m.\u001b[0m\u001b[0m_side_len\u001b[0m\u001b[0;34m[\u001b[0m\u001b[0;36m0\u001b[0m\u001b[0;34m]\u001b[0m \u001b[0;34m*\u001b[0m \u001b[0mself\u001b[0m\u001b[0;34m.\u001b[0m\u001b[0m_side_len\u001b[0m\u001b[0;34m[\u001b[0m\u001b[0;36m1\u001b[0m\u001b[0;34m]\u001b[0m\u001b[0;34m\u001b[0m\u001b[0m\n\u001b[0m",
      "\u001b[0;31mAttributeError\u001b[0m: 'Rectangle' object has no attribute '_side_len'"
     ]
    }
   ],
   "source": [
    "dumm_poly = Rectangle(4, [1,2,1,2])\n",
    "dumm_poly.area()"
   ]
  },
  {
   "cell_type": "markdown",
   "metadata": {},
   "source": [
    "### Practice Time!\n",
    "Do the same for the Square"
   ]
  },
  {
   "cell_type": "markdown",
   "metadata": {},
   "source": [
    "### Python Multiple Resolution Order(MRO)\n",
    "* Any class can inherit from other classes.\n",
    "* Any python class can inherit from multiple classes at the same time.\n",
    "* The class that inherits another class is called the Base/Child class.\n",
    "* The class being inherited by the Child class is called the Parent class.\n",
    "* The child class inherits any methods and attributes defined in the parent classes.\n",
    "* Python uses a depth-first method resolution order (MRO) to fetch methods.\n",
    "* ie.. Imagine you have four classes, A, B, C, D.<br>\n",
    "\n",
    "    You instance is created from `D`.<br>\n",
    "    `D` inherits from `B` and `C`<br>\n",
    "    `B` inherits from `A`.<br>\n",
    "    Both` C` and `A` has a method with the same name.<br>\n",
    "    Since python follows a depth-first MRO, the method is called from `A`<br>\n",
    "    \n",
    "           A\n",
    "          /\n",
    "         B    C\n",
    "          \\  /\n",
    "           \\/\n",
    "           D"
   ]
  },
  {
   "cell_type": "markdown",
   "metadata": {},
   "source": [
    "### Class methods and static methods\n",
    "\n",
    "* We earlier discussed the class methods in detail, we shall discuss static methods in the context of class methods\n",
    "* Unlike class-methods and instance-methods, the static methods are not binded along to an object.\n",
    "* So we do not pass `self` as the first arg for static-methods\n",
    "* The purpose of a static-method is to perform some logic which does not depends on a instance/class attribute or method but it is useful as a helper method along with a class"
   ]
  },
  {
   "cell_type": "code",
   "execution_count": 88,
   "metadata": {},
   "outputs": [],
   "source": [
    "# For example, if we want to calculate the interest after a certain time period, we can use an \n",
    "# instance method to accept the time and then use a helper method to perform the calculation\n",
    "\n",
    "class Account:\n",
    "    \"\"\"\n",
    "    Base class for implementing a bank account\n",
    "    \"\"\"\n",
    "    \n",
    "    #Name of the bank\n",
    "    __bank_name = 'SBI'\n",
    "    \n",
    "    def __init__(self, acc_num, balance, interest=0.04):\n",
    "        # Make sure acc no. starts with SBI\n",
    "        if(acc_num[:3] == 'SBI'):\n",
    "            self.__acc_num = acc_num\n",
    "        else:\n",
    "            raise ValueError('The account number should have a correct prefix!')\n",
    "        # Make sure the balance is not -ve\n",
    "        if (balance > 0):\n",
    "            self.__balance = balance\n",
    "        else:\n",
    "            raise ValueError('Balance cannot be negative!')\n",
    "        self.__interest = interest\n",
    "        \n",
    "    \n",
    "    def get_info(self):\n",
    "        \"\"\"\n",
    "        Prints the info of the account\n",
    "        \"\"\"\n",
    "        print(f'Account Number : {self.__acc_num} has a balance: {self.__balance} with interest rate: {self.__interest*100}%')\n",
    "    \n",
    "    \n",
    "    @classmethod\n",
    "    def print_bank(cls):\n",
    "        \"\"\"\n",
    "        Prints the name of the bank\n",
    "        \"\"\"\n",
    "        print(f'The name of bank: {cls.__bank_name}')\n",
    "        \n",
    "    def addBalance(self, amount):\n",
    "        \"\"\"\n",
    "        Adds a sum of money to the balance\n",
    "        \"\"\"\n",
    "        \n",
    "        # Make sure that the balance is +ve\n",
    "        if(amount <0):\n",
    "            raise ValueError('Enter a positive amount!')\n",
    "        self.__balance += amount\n",
    "    \n",
    "    def removeBalance(self, amount):\n",
    "        \"\"\"\n",
    "        Remove the balance after widthdrawal\n",
    "        \"\"\"\n",
    "        \n",
    "        # Make sure that the balance is +ve\n",
    "        if(amount <0):\n",
    "            raise ValueError('Enter a positive amount!')\n",
    "        \n",
    "        # Throw insufficient funds if widthdrawn amount > balance\n",
    "        if(amount > self.__balance):\n",
    "            raise ValueError('Insufficient Funds!')\n",
    "        self.__balance -= amount\n",
    "    \n",
    "    def getBalance(self):\n",
    "        \"\"\"\n",
    "        Get balance\n",
    "        \"\"\"\n",
    "        return self.__balance\n",
    "    \n",
    "    def getAcc(self):\n",
    "        \"\"\"\n",
    "        Return the account number\n",
    "        \"\"\"\n",
    "        return self.__acc_num\n",
    "    \n",
    "    def getInterest(self):\n",
    "        \"\"\"\n",
    "        Return the interest\n",
    "        \"\"\"\n",
    "        return self.__interest\n",
    "    \n",
    "    @staticmethod\n",
    "    def calInterest(balance, time, interest):\n",
    "        \"\"\"\n",
    "        Helper method to calculate the interest\n",
    "        Using Simple Interest\n",
    "        \"\"\"\n",
    "        return (balance * interest * time)/12\n",
    "    \n",
    "    def calInterestSum(self, time):\n",
    "        \"\"\"\n",
    "        Calculate the interest for a given time period\n",
    "        Time in months\n",
    "        \"\"\"\n",
    "        return self.calInterest(self.__balance, time, self.__interest)\n",
    "        \n",
    "    "
   ]
  },
  {
   "cell_type": "code",
   "execution_count": 89,
   "metadata": {},
   "outputs": [
    {
     "data": {
      "text/plain": [
       "960.0"
      ]
     },
     "execution_count": 89,
     "metadata": {},
     "output_type": "execute_result"
    }
   ],
   "source": [
    "dumm_acc = Account('SBI-0000',12000)\n",
    "dumm_acc.calInterestSum(24)"
   ]
  },
  {
   "cell_type": "markdown",
   "metadata": {},
   "source": [
    "### Magic Methods in Python\n",
    "* As the name suggests, it is indeed a magical feature in Python\n",
    "* As we know that everything in Python is an object, so there are some inbuilt methods which are used to provide similar functionality for all objects with different logic to implement them.\n",
    "* For example, using len(<list_obj>) and len(\\<tuple>) works even though they have different mechanism to store elements.\n",
    "* Python's magic method provides the optionality to override them.\n",
    "* Such methods have a peculiar representation, starting and ending with \"\\__\".\n",
    "* For eg, \\__add\\__, which implements the addition protocol between two objects"
   ]
  },
  {
   "cell_type": "markdown",
   "metadata": {},
   "source": [
    "### Some examples of magic methods\n",
    "\n",
    "**Binary Operators**\n",
    "```\n",
    "+\tobject.__add__(self, other)\n",
    "-\tobject.__sub__(self, other)\n",
    "*\tobject.__mul__(self, other)\n",
    "//\tobject.__floordiv__(self, other)\n",
    "/\tobject.__truediv__(self, other)\n",
    "%\tobject.__mod__(self, other)\n",
    "**\tobject.__pow__(self, other[, modulo])\n",
    "<<\tobject.__lshift__(self, other)\n",
    ">>\tobject.__rshift__(self, other)\n",
    "&\tobject.__and__(self, other)\n",
    "^\tobject.__xor__(self, other)\n",
    "|\tobject.__or__(self, other)\n",
    "```\n",
    "\n",
    "**Extended Assignments**\n",
    "\n",
    "```\n",
    "+=\tobject.__iadd__(self, other)\n",
    "-=\tobject.__isub__(self, other)\n",
    "*=\tobject.__imul__(self, other)\n",
    "/=\tobject.__idiv__(self, other)\n",
    "//=\tobject.__ifloordiv__(self, other)\n",
    "%=\tobject.__imod__(self, other)\n",
    "**=\tobject.__ipow__(self, other[, modulo])\n",
    "<<=\tobject.__ilshift__(self, other)\n",
    ">>=\tobject.__irshift__(self, other)\n",
    "&=\tobject.__iand__(self, other)\n",
    "^=\tobject.__ixor__(self, other)\n",
    "|=\tobject.__ior__(self, other)\n",
    "```\n",
    "\n",
    "**Unary Operators**\n",
    "\n",
    "```\n",
    "-\tobject.__neg__(self)\n",
    "+\tobject.__pos__(self)\n",
    "abs()\tobject.__abs__(self)\n",
    "~\tobject.__invert__(self)\n",
    "complex()\tobject.__complex__(self)\n",
    "int()\tobject.__int__(self)\n",
    "long()\tobject.__long__(self)\n",
    "float()\tobject.__float__(self)\n",
    "oct()\tobject.__oct__(self)\n",
    "hex()\tobject.__hex__(self\n",
    "```\n",
    "\n",
    "**Comparison Operators**\n",
    "\n",
    "```\n",
    "<\tobject.__lt__(self, other)\n",
    "<=\tobject.__le__(self, other)\n",
    "==\tobject.__eq__(self, other)\n",
    "!=\tobject.__ne__(self, other)\n",
    ">=\tobject.__ge__(self, other)\n",
    ">\tobject.__gt__(self, other)\n",
    "```"
   ]
  },
  {
   "cell_type": "markdown",
   "metadata": {},
   "source": [
    "\n",
    "### Refactoring the Account class to use some magic methods\n",
    "\n",
    "* Refactor the Account class to use magic methods \n",
    "* Some magic methods that we might use are \\_\\_repr\\_\\_, \\_\\_add\\_\\_. "
   ]
  },
  {
   "cell_type": "code",
   "execution_count": 90,
   "metadata": {},
   "outputs": [],
   "source": [
    "# For example, if we have two instances of a Bank account with same account number, then our definition of adding two\n",
    "# bank account would be adding the two balance, let's implement that\n",
    "\n",
    "class Account:\n",
    "    \"\"\"\n",
    "    Base class for implementing a bank account\n",
    "    \"\"\"\n",
    "    \n",
    "    #Name of the bank\n",
    "    __bank_name = 'SBI'\n",
    "    \n",
    "    def __init__(self, acc_num, balance, interest=0.04):\n",
    "        # Make sure acc no. starts with SBI\n",
    "        if(acc_num[:3] == 'SBI'):\n",
    "            self.__acc_num = acc_num\n",
    "        else:\n",
    "            raise ValueError('The account number should have a correct prefix!')\n",
    "        # Make sure the balance is not -ve\n",
    "        if (balance > 0):\n",
    "            self.__balance = balance\n",
    "        else:\n",
    "            raise ValueError('Balance cannot be negative!')\n",
    "        self.__interest = interest\n",
    "        \n",
    "    def __repr__(self):\n",
    "        \"\"\"\n",
    "        String format for returning the description\n",
    "        \"\"\"\n",
    "        return(f'Account Number : {self.__acc_num} has a balance: {self.__balance} with interest rate: {self.__interest*100}%')\n",
    "        \n",
    "    \n",
    "    def __add__(self, other):\n",
    "        \"\"\"\n",
    "        Adds the balance\n",
    "        \"\"\"\n",
    "        if(self.getAcc() == other.getAcc() and self.getInterest() == other.getInterest()):\n",
    "            return Account(self.getAcc(), self.getBalance()+other.getBalance(), self.getInterest())   \n",
    "    \n",
    "    @classmethod\n",
    "    def print_bank(cls):\n",
    "        \"\"\"\n",
    "        Prints the name of the bank\n",
    "        \"\"\"\n",
    "        print(f'The name of bank: {cls.__bank_name}')\n",
    "        \n",
    "    def addBalance(self, amount):\n",
    "        \"\"\"\n",
    "        Adds a sum of money to the balance\n",
    "        \"\"\"\n",
    "        \n",
    "        # Make sure that the balance is +ve\n",
    "        if(amount <0):\n",
    "            raise ValueError('Enter a positive amount!')\n",
    "        self.__balance += amount\n",
    "    \n",
    "    def removeBalance(self, amount):\n",
    "        \"\"\"\n",
    "        Remove the balance after widthdrawal\n",
    "        \"\"\"\n",
    "        \n",
    "        # Make sure that the balance is +ve\n",
    "        if(amount <0):\n",
    "            raise ValueError('Enter a positive amount!')\n",
    "        \n",
    "        # Throw insufficient funds if widthdrawn amount > balance\n",
    "        if(amount > self.__balance):\n",
    "            raise ValueError('Insufficient Funds!')\n",
    "        self.__balance -= amount\n",
    "    \n",
    "    def getBalance(self):\n",
    "        \"\"\"\n",
    "        Get balance\n",
    "        \"\"\"\n",
    "        return self.__balance\n",
    "    \n",
    "    def getAcc(self):\n",
    "        \"\"\"\n",
    "        Return the account number\n",
    "        \"\"\"\n",
    "        return self.__acc_num\n",
    "    \n",
    "    def getInterest(self):\n",
    "        \"\"\"\n",
    "        Return the interest\n",
    "        \"\"\"\n",
    "        return self.__interest\n",
    "    \n",
    "    @staticmethod\n",
    "    def calInterest(balance, time, interest):\n",
    "        \"\"\"\n",
    "        Helper method to calculate the interest\n",
    "        Using Simple Interest\n",
    "        \"\"\"\n",
    "        return (balance * interest * time)/12\n",
    "    \n",
    "    def calInterestSum(self, time):\n",
    "        \"\"\"\n",
    "        Calculate the interest for a given time period\n",
    "        Time in months\n",
    "        \"\"\"\n",
    "        return self.calInterest(self.__balance, time, self.__interest)\n",
    "        \n",
    "    "
   ]
  },
  {
   "cell_type": "code",
   "execution_count": 91,
   "metadata": {},
   "outputs": [
    {
     "data": {
      "text/plain": [
       "Account Number : SBI-11 has a balance: 3000 with interest rate: 4.0%"
      ]
     },
     "execution_count": 91,
     "metadata": {},
     "output_type": "execute_result"
    }
   ],
   "source": [
    "d1_acc = Account('SBI-11',1000)\n",
    "d2_acc = Account('SBI-11',2000)\n",
    "\n",
    "new_acc = d1_acc + d2_acc\n",
    "new_acc # Note how calling the object returns the repr! Magic!"
   ]
  },
  {
   "cell_type": "markdown",
   "metadata": {},
   "source": [
    "### Decorators : Simplifying our job\n",
    "\n",
    "* Decorators are design patterns, in which we encapsulate a method inside another method\n",
    "* Useful when we don't want to highlight the internal method, which might contain sensitive data\n",
    "* We will implement a polynomial \"factory\" function now. We will start with writing a version which can create polynomials of degree 2. \n",
    "* formula for polynomials with degree 2 \n",
    "![](https://www.python-course.eu/images/polynomial_degree2.png)\n",
    "\n",
    "* The Python implementation as a polynomial factory function can be written like this:\n",
    "```\n",
    "def polynomial_creator(a, b, c):\n",
    "    def polynomial(x):\n",
    "        return a * x**2 + b * x + c\n",
    "    return polynomial\n",
    "```"
   ]
  },
  {
   "cell_type": "markdown",
   "metadata": {},
   "source": [
    "### Using decorators in out class\n",
    "* Decorators provide a simplistic API in performing different behaviours in programming.\n",
    "* One such an example is making getters and setters\n",
    "* We can see that since the interest, account num and balance are protected variables, we cannot access them directly, rather than access using getter methods\n",
    "* Similarly for updating balance, we are using two setter methods\n",
    "* We can use decorators to reduce clutter by setting up getters and setters"
   ]
  },
  {
   "cell_type": "code",
   "execution_count": 92,
   "metadata": {},
   "outputs": [],
   "source": [
    "class Account:\n",
    "    \"\"\"\n",
    "    Base class for implementing a bank account\n",
    "    \"\"\"\n",
    "    \n",
    "    #Name of the bank\n",
    "    __bank_name = 'SBI'\n",
    "    \n",
    "    def __init__(self, acc_num, balance, interest=0.04):\n",
    "        # Make sure acc no. starts with SBI\n",
    "        if(acc_num[:3] == 'SBI'):\n",
    "            self.__acc_num = acc_num\n",
    "        else:\n",
    "            raise ValueError('The account number should have a correct prefix!')\n",
    "        # Make sure the balance is not -ve\n",
    "        if (balance > 0):\n",
    "            self.__balance = balance\n",
    "        else:\n",
    "            raise ValueError('Balance cannot be negative!')\n",
    "        self.__interest = interest\n",
    "        \n",
    "    def __repr__(self):\n",
    "        \"\"\"\n",
    "        String format for returning the description\n",
    "        \"\"\"\n",
    "        return(f'Account Number : {self.__acc_num} has a balance: {self.__balance} with interest rate: {self.__interest*100}%')\n",
    "        \n",
    "    \n",
    "    def __add__(self, other):\n",
    "        \"\"\"\n",
    "        Adds the balance\n",
    "        \"\"\"\n",
    "        if(self.getAcc() == other.getAcc() and self.getInterest() == other.getInterest()):\n",
    "            return Account(self.getAcc(), self.getBalance()+other.getBalance(), self.getInterest())   \n",
    "    \n",
    "    @classmethod\n",
    "    def print_bank(cls):\n",
    "        \"\"\"\n",
    "        Prints the name of the bank\n",
    "        \"\"\"\n",
    "        print(f'The name of bank: {cls.__bank_name}')\n",
    "        \n",
    "    def addBalance(self, amount):\n",
    "        \"\"\"\n",
    "        Adds a sum of money to the balance\n",
    "        \"\"\"\n",
    "        \n",
    "        # Make sure that the balance is +ve\n",
    "        if(amount <0):\n",
    "            raise ValueError('Enter a positive amount!')\n",
    "        self.__balance += amount\n",
    "    \n",
    "    def removeBalance(self, amount):\n",
    "        \"\"\"\n",
    "        Remove the balance after widthdrawal\n",
    "        \"\"\"\n",
    "        \n",
    "        # Make sure that the balance is +ve\n",
    "        if(amount <0):\n",
    "            raise ValueError('Enter a positive amount!')\n",
    "        \n",
    "        # Throw insufficient funds if widthdrawn amount > balance\n",
    "        if(amount > self.__balance):\n",
    "            raise ValueError('Insufficient Funds!')\n",
    "        self.__balance -= amount\n",
    "    \n",
    "    @property\n",
    "    def balance(self):\n",
    "        \"\"\"\n",
    "        Get balance\n",
    "        \"\"\"\n",
    "        return self.__balance\n",
    "    \n",
    "    @property\n",
    "    def acc_num(self):\n",
    "        \"\"\"\n",
    "        Return the account number\n",
    "        \"\"\"\n",
    "        return self.__acc_num\n",
    "    \n",
    "    @property\n",
    "    def interest(self):\n",
    "        \"\"\"\n",
    "        Return the interest\n",
    "        \"\"\"\n",
    "        return self.__interest * 100\n",
    "    \n",
    "    @staticmethod\n",
    "    def calInterest(balance, time, interest):\n",
    "        \"\"\"\n",
    "        Helper method to calculate the interest\n",
    "        Using Simple Interest\n",
    "        \"\"\"\n",
    "        return (balance * interest * time)/12\n",
    "    \n",
    "    def calInterestSum(self, time):\n",
    "        \"\"\"\n",
    "        Calculate the interest for a given time period\n",
    "        Time in months\n",
    "        \"\"\"\n",
    "        return self.calInterest(self.__balance, time, self.__interest)\n",
    "        "
   ]
  },
  {
   "cell_type": "code",
   "execution_count": 93,
   "metadata": {},
   "outputs": [
    {
     "data": {
      "text/plain": [
       "'SBI-11'"
      ]
     },
     "execution_count": 93,
     "metadata": {},
     "output_type": "execute_result"
    }
   ],
   "source": [
    "d1_acc = Account('SBI-11',1000)\n",
    "d1_acc.acc_num"
   ]
  },
  {
   "cell_type": "code",
   "execution_count": 94,
   "metadata": {},
   "outputs": [
    {
     "data": {
      "text/plain": [
       "1000"
      ]
     },
     "execution_count": 94,
     "metadata": {},
     "output_type": "execute_result"
    }
   ],
   "source": [
    "d1_acc.balance"
   ]
  },
  {
   "cell_type": "code",
   "execution_count": 95,
   "metadata": {},
   "outputs": [
    {
     "data": {
      "text/plain": [
       "4.0"
      ]
     },
     "execution_count": 95,
     "metadata": {},
     "output_type": "execute_result"
    }
   ],
   "source": [
    "d1_acc.interest"
   ]
  },
  {
   "cell_type": "markdown",
   "metadata": {},
   "source": [
    "##### Similarly for setting the instance and class variables, we can use setter decorators"
   ]
  },
  {
   "cell_type": "code",
   "execution_count": 96,
   "metadata": {},
   "outputs": [],
   "source": [
    "class Account:\n",
    "    \"\"\"\n",
    "    Base class for implementing a bank account\n",
    "    \"\"\"\n",
    "    \n",
    "    #Name of the bank\n",
    "    __bank_name = 'SBI'\n",
    "    \n",
    "    def __init__(self, acc_num, balance, interest=0.04):\n",
    "        # Make sure acc no. starts with SBI\n",
    "        if(acc_num[:3] == 'SBI'):\n",
    "            self.__acc_num = acc_num\n",
    "        else:\n",
    "            raise ValueError('The account number should have a correct prefix!')\n",
    "        # Make sure the balance is not -ve\n",
    "        if (balance > 0):\n",
    "            self.__balance = balance\n",
    "        else:\n",
    "            raise ValueError('Balance cannot be negative!')\n",
    "        self.__interest = interest\n",
    "        \n",
    "    def __repr__(self):\n",
    "        \"\"\"\n",
    "        String format for returning the description\n",
    "        \"\"\"\n",
    "        return(f'Account Number : {self.__acc_num} has a balance: {self.__balance} with interest rate: {self.__interest*100}%')\n",
    "        \n",
    "    \n",
    "    def __add__(self, other):\n",
    "        \"\"\"\n",
    "        Adds the balance\n",
    "        \"\"\"\n",
    "        if(self.getAcc() == other.getAcc() and self.getInterest() == other.getInterest()):\n",
    "            return Account(self.getAcc(), self.getBalance()+other.getBalance(), self.getInterest())   \n",
    "        \n",
    "    @property\n",
    "    def balance(self):\n",
    "        \"\"\"\n",
    "        Get balance\n",
    "        \"\"\"\n",
    "        return self.__balance\n",
    "    \n",
    "    @property\n",
    "    def acc_num(self):\n",
    "        \"\"\"\n",
    "        Return the account number\n",
    "        \"\"\"\n",
    "        return self.__acc_num\n",
    "    \n",
    "    @property\n",
    "    def interest(self):\n",
    "        \"\"\"\n",
    "        Return the interest\n",
    "        \"\"\"\n",
    "        return self.__interest * 100\n",
    "    \n",
    "    @staticmethod\n",
    "    def calInterest(balance, time, interest):\n",
    "        \"\"\"\n",
    "        Helper method to calculate the interest\n",
    "        Using Simple Interest\n",
    "        \"\"\"\n",
    "        return (balance * interest * time)/12\n",
    "    \n",
    "    @classmethod\n",
    "    def print_bank(cls):\n",
    "        \"\"\"\n",
    "        Prints the name of the bank\n",
    "        \"\"\"\n",
    "        print(f'The name of bank: {cls.__bank_name}')\n",
    "        \n",
    "    @balance.setter\n",
    "    def addBalance(self, amount):\n",
    "        \"\"\"\n",
    "        Add/Remove the balance\n",
    "        -ve means widthdrawal\n",
    "        +ve means storage\n",
    "        \"\"\"\n",
    "        \n",
    "        if((-amount) > self.__balance):\n",
    "            raise ValueError('Insufficient Funds!')\n",
    "        self.__balance += amount\n",
    "    \n",
    "    \n",
    "    \n",
    "    def calInterestSum(self, time):\n",
    "        \"\"\"\n",
    "        Calculate the interest for a given time period\n",
    "        Time in months\n",
    "        \"\"\"\n",
    "        return self.calInterest(self.__balance, time, self.__interest)\n",
    "        "
   ]
  },
  {
   "cell_type": "code",
   "execution_count": 97,
   "metadata": {},
   "outputs": [
    {
     "data": {
      "text/plain": [
       "1000"
      ]
     },
     "execution_count": 97,
     "metadata": {},
     "output_type": "execute_result"
    }
   ],
   "source": [
    "d1_acc = Account('SBI-11',1000)\n",
    "d1_acc.balance"
   ]
  },
  {
   "cell_type": "code",
   "execution_count": 98,
   "metadata": {},
   "outputs": [
    {
     "data": {
      "text/plain": [
       "3000"
      ]
     },
     "execution_count": 98,
     "metadata": {},
     "output_type": "execute_result"
    }
   ],
   "source": [
    "d1_acc.addBalance = 2000\n",
    "d1_acc.balance "
   ]
  },
  {
   "cell_type": "code",
   "execution_count": 58,
   "metadata": {},
   "outputs": [
    {
     "data": {
      "text/plain": [
       "2000"
      ]
     },
     "execution_count": 58,
     "metadata": {},
     "output_type": "execute_result"
    }
   ],
   "source": [
    "d1_acc.addBalance = -1000\n",
    "d1_acc.balance"
   ]
  },
  {
   "cell_type": "markdown",
   "metadata": {},
   "source": [
    "### Practice Time!\n",
    "\n",
    "* Unfortunately, we might not have time to discuss the solution of the final problem.\n",
    "* So you can complete the rest as Home-work\n",
    "* Following are the final additions that you might need to add/refactor in the above Polygon class\n",
    "* Replace the getters and setters with the decorators\n",
    "* Add a magic method for displaying the representation of the String.\n"
   ]
  },
  {
   "cell_type": "code",
   "execution_count": null,
   "metadata": {},
   "outputs": [],
   "source": []
  }
 ],
 "metadata": {
  "kernelspec": {
   "display_name": "Python 3",
   "language": "python",
   "name": "python3"
  },
  "language_info": {
   "codemirror_mode": {
    "name": "ipython",
    "version": 3
   },
   "file_extension": ".py",
   "mimetype": "text/x-python",
   "name": "python",
   "nbconvert_exporter": "python",
   "pygments_lexer": "ipython3",
   "version": "3.7.0"
  }
 },
 "nbformat": 4,
 "nbformat_minor": 2
}
